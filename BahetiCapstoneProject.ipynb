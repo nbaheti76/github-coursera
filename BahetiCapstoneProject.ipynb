{
 "cells": [
  {
   "cell_type": "markdown",
   "metadata": {},
   "source": [
    "## Starting a new Physical Therapy Clinic in Manhattan, NYC"
   ]
  },
  {
   "cell_type": "markdown",
   "metadata": {},
   "source": [
    "#### Introduction/Business Problem: \n",
    "##### My best friend is a sports physical therapist in California. Specifically, he works with youth athletes, who play sports such as Football, Soccer, Baseball, Basketball, etc. He is planning on relocating to NYC, to be closer to his family. So, he is looking to start a new physical therapy clinic, in Manhattan. He wants to know which is an ideal location for him to open his clinic, in Manhattan. He wants me to help him find a location that is central to his potential patients. Specifically, he wants to be located centrally to youth athletes who play sports in high school. "
   ]
  },
  {
   "cell_type": "markdown",
   "metadata": {},
   "source": [
    "#### Description of Data:\n",
    "##### Since my friend has mentioned that his specialty is working with youth athletes, it will be important to know where such athletes are located. Since, all such athletes attend school, we decided that we will first get a list of all the high schools in Manhattan. Such a list was found on Wikipedia at this location: https://en.wikipedia.org/wiki/List_of_high_schools_in_New_York_City. We can get the location data of all these high schools from Foursquare and plot them to a map of Manhattan. After that, we can cluster the data to find a location(s) that is/are most centrally located to all (of most) high schools in Manhattan. Once, we can a couple of locations picked out, I am hoping to then overlap a map of all the existing physical therapy clinics in those locations, to see how many competitors already exist in those locations. The list of existing physical therapy clinics, in Manhattan, can be found on Foursquare. I will use the search endpoint in the query to Foursquare. "
   ]
  },
  {
   "cell_type": "code",
   "execution_count": null,
   "metadata": {},
   "outputs": [],
   "source": []
  }
 ],
 "metadata": {
  "kernelspec": {
   "display_name": "Python",
   "language": "python",
   "name": "conda-env-python-py"
  },
  "language_info": {
   "codemirror_mode": {
    "name": "ipython",
    "version": 3
   },
   "file_extension": ".py",
   "mimetype": "text/x-python",
   "name": "python",
   "nbconvert_exporter": "python",
   "pygments_lexer": "ipython3",
   "version": "3.6.10"
  }
 },
 "nbformat": 4,
 "nbformat_minor": 4
}
